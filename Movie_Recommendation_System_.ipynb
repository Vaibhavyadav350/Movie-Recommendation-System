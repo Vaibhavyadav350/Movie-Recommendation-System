{
  "nbformat": 4,
  "nbformat_minor": 0,
  "metadata": {
    "colab": {
      "name": "Movie Recommendation System .ipynb",
      "provenance": [],
      "authorship_tag": "ABX9TyO4iJJ2jghkVdwkwDpVZuf4",
      "include_colab_link": true
    },
    "kernelspec": {
      "name": "python3",
      "display_name": "Python 3"
    },
    "language_info": {
      "name": "python"
    }
  },
  "cells": [
    {
      "cell_type": "markdown",
      "metadata": {
        "id": "view-in-github",
        "colab_type": "text"
      },
      "source": [
        "<a href=\"https://colab.research.google.com/github/Vaibhavyadav350/Movie-Recommendation-System/blob/main/Movie_Recommendation_System_.ipynb\" target=\"_parent\"><img src=\"https://colab.research.google.com/assets/colab-badge.svg\" alt=\"Open In Colab\"/></a>"
      ]
    },
    {
      "cell_type": "code",
      "execution_count": null,
      "metadata": {
        "id": "pWG7GCj1HPWr"
      },
      "outputs": [],
      "source": [
        "### Importing the basic libraries\n",
        "import pandas as pd\n",
        "import numpy as np\n",
        "np.seterr(divide='ignore', invalid='ignore')\n",
        "import random\n",
        "from sklearn.metrics import mean_squared_error\n",
        "import os\n",
        "import matplotlib.pyplot as plt\n",
        "from scipy.sparse.linalg import svds\n",
        "from mpl_toolkits import mplot3d"
      ]
    },
    {
      "cell_type": "code",
      "source": [
        "ratingData = pd.io.parsers.read_csv('ratings.dat', \n",
        "    names=['user_id', 'movie_id', 'rating', 'time'],\n",
        "    engine='python', delimiter='::')\n",
        "movieData = pd.io.parsers.read_csv('movies.dat',\n",
        "    names=['movie_id', 'title', 'genre'],\n",
        "    engine='python', delimiter='::', encoding='ISO-8859-1')\n",
        "print(movieData)"
      ],
      "metadata": {
        "id": "BpqghaEuHkTI",
        "colab": {
          "base_uri": "https://localhost:8080/"
        },
        "outputId": "cdcc22d5-c818-482d-bb9e-d68aa09dc713"
      },
      "execution_count": null,
      "outputs": [
        {
          "output_type": "stream",
          "name": "stdout",
          "text": [
            "      movie_id                               title  \\\n",
            "0            1                    Toy Story (1995)   \n",
            "1            2                      Jumanji (1995)   \n",
            "2            3             Grumpier Old Men (1995)   \n",
            "3            4            Waiting to Exhale (1995)   \n",
            "4            5  Father of the Bride Part II (1995)   \n",
            "...        ...                                 ...   \n",
            "3878      3948             Meet the Parents (2000)   \n",
            "3879      3949          Requiem for a Dream (2000)   \n",
            "3880      3950                    Tigerland (2000)   \n",
            "3881      3951             Two Family House (2000)   \n",
            "3882      3952               Contender, The (2000)   \n",
            "\n",
            "                             genre  \n",
            "0      Animation|Children's|Comedy  \n",
            "1     Adventure|Children's|Fantasy  \n",
            "2                   Comedy|Romance  \n",
            "3                     Comedy|Drama  \n",
            "4                           Comedy  \n",
            "...                            ...  \n",
            "3878                        Comedy  \n",
            "3879                         Drama  \n",
            "3880                         Drama  \n",
            "3881                         Drama  \n",
            "3882                Drama|Thriller  \n",
            "\n",
            "[3883 rows x 3 columns]\n"
          ]
        }
      ]
    },
    {
      "cell_type": "code",
      "source": [
        "ratingMatrix = np.ndarray(\n",
        "    shape=(np.max(ratingData.movie_id.values), np.max(ratingData.user_id.values)),\n",
        "    dtype=np.uint8)\n",
        "ratingMatrix[ratingData.movie_id.values-1, ratingData.user_id.values-1] = ratingData.rating.values\n",
        "print(ratingMatrix)"
      ],
      "metadata": {
        "colab": {
          "base_uri": "https://localhost:8080/"
        },
        "id": "lK3plrv9SjV4",
        "outputId": "780af631-f7ef-483c-ee2d-63d915ba1ce4"
      },
      "execution_count": null,
      "outputs": [
        {
          "output_type": "stream",
          "name": "stdout",
          "text": [
            "[[  5 224 143 ...   0 112   5]\n",
            " [144  41  38 ... 234  81  88]\n",
            " [ 38 127   0 ...  41  38 127]\n",
            " ...\n",
            " [  0   0   0 ...   3   0   0]\n",
            " [  0   0   0 ...   4   0   0]\n",
            " [  0   0  90 ...   4   0   0]]\n"
          ]
        }
      ]
    },
    {
      "cell_type": "code",
      "source": [
        "normalizedMatrix = ratingMatrix - np.asarray([(np.mean(ratingMatrix, 1))]).T\n",
        "print(normalizedMatrix)"
      ],
      "metadata": {
        "id": "498GmTApUAY_",
        "colab": {
          "base_uri": "https://localhost:8080/"
        },
        "outputId": "a5223016-2e72-4546-c172-b55104c93b30"
      },
      "execution_count": null,
      "outputs": [
        {
          "output_type": "stream",
          "name": "stdout",
          "text": [
            "[[-53.41025641 165.58974359  84.58974359 ... -58.41025641  53.58974359\n",
            "  -53.41025641]\n",
            " [ 78.48717949 -24.51282051 -27.51282051 ... 168.48717949  15.48717949\n",
            "   22.48717949]\n",
            " [-28.84382284  60.15617716 -66.84382284 ... -25.84382284 -28.84382284\n",
            "   60.15617716]\n",
            " ...\n",
            " [-10.98368298 -10.98368298 -10.98368298 ...  -7.98368298 -10.98368298\n",
            "  -10.98368298]\n",
            " [-11.26223776 -11.26223776 -11.26223776 ...  -7.26223776 -11.26223776\n",
            "  -11.26223776]\n",
            " [ -4.502331    -4.502331    85.497669   ...  -0.502331    -4.502331\n",
            "   -4.502331  ]]\n"
          ]
        }
      ]
    },
    {
      "cell_type": "code",
      "source": [
        "A = normalizedMatrix.T / np.sqrt(ratingMatrix.shape[0] - 1)\n",
        "U, S, V = np.linalg.svd(A)"
      ],
      "metadata": {
        "id": "Rc59MYxKUDfq"
      },
      "execution_count": null,
      "outputs": []
    },
    {
      "cell_type": "code",
      "source": [
        "def similar(ratingData, movie_id, top_n):\n",
        "    index = movie_id - 1 # Movie id starts from 1\n",
        "    movie_row = ratingData[index, :]\n",
        "    magnitude = np.sqrt(np.einsum('ij, ij -> i', ratingData, ratingData)) #Einstein summation |  traditional matrix multiplication and is equivalent to np.matmul(a,b)\n",
        "    similarity = np.dot(movie_row, ratingData.T) / (magnitude[index] * magnitude)\n",
        "    sort_indexes = np.argsort(-similarity) #Perform an indirect sort along the given axis (Last axis)\n",
        "    return sort_indexes[:top_n]"
      ],
      "metadata": {
        "id": "80RrK0bhUKQO"
      },
      "execution_count": null,
      "outputs": []
    },
    {
      "cell_type": "code",
      "source": [
        "k = 50\n",
        "movie_id = int(input(\"Enter id of Movie = \"))\n",
        "top_n = int(input(\"How many recommendtions you want = \"))\n",
        "\n",
        "sliced = V.T[:, :k] # representative data\n",
        "indexes = similar(sliced, movie_id, top_n)\n",
        "\n",
        "print('Recommendations for Movie {0}: \\n'.format(\n",
        "movieData[movieData.movie_id == movie_id].title.values[0]))\n",
        "for id in indexes + 1:\n",
        "    print(movieData[movieData.movie_id == id].title.values[0])"
      ],
      "metadata": {
        "id": "ZR8BbXWLUQGc",
        "colab": {
          "base_uri": "https://localhost:8080/"
        },
        "outputId": "be5ae9e0-ea27-4e25-de8d-256de3e80ec6"
      },
      "execution_count": null,
      "outputs": [
        {
          "output_type": "stream",
          "name": "stdout",
          "text": [
            "Enter id of Movie = 34\n",
            "How many recommendtions you want = 5\n",
            "Recommendations for Movie Babe (1995): \n",
            "\n",
            "Babe (1995)\n",
            "Margaret's Museum (1995)\n",
            "Four Rooms (1995)\n",
            "Raising Arizona (1987)\n",
            "Man of the House (1995)\n"
          ]
        }
      ]
    }
  ]
}